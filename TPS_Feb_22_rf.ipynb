{
  "nbformat": 4,
  "nbformat_minor": 0,
  "metadata": {
    "colab": {
      "name": "TPS-Feb-22-rf.ipynb",
      "provenance": [],
      "collapsed_sections": []
    },
    "kernelspec": {
      "name": "python3",
      "display_name": "Python 3"
    },
    "language_info": {
      "name": "python"
    },
    "accelerator": "GPU"
  },
  "cells": [
    {
      "cell_type": "code",
      "execution_count": 1,
      "metadata": {
        "id": "PQLCL-__3_r1",
        "colab": {
          "base_uri": "https://localhost:8080/"
        },
        "outputId": "8e9a29e9-fa41-4f0a-c411-ab08b7e13627"
      },
      "outputs": [
        {
          "output_type": "stream",
          "name": "stdout",
          "text": [
            "Mounted at /content/gdrive/\n"
          ]
        }
      ],
      "source": [
        "from google.colab import drive \n",
        "drive.mount('/content/gdrive/')"
      ]
    },
    {
      "cell_type": "code",
      "source": [
        "import numpy as np\n",
        "import pandas as pd\n",
        "\n",
        "import matplotlib.pyplot as plt\n",
        "import seaborn as sns\n",
        "\n",
        "from sklearn import preprocessing\n",
        "from sklearn.ensemble import RandomForestClassifier\n",
        "\n",
        "import time"
      ],
      "metadata": {
        "id": "9RznnIF9zOI9"
      },
      "execution_count": 2,
      "outputs": []
    },
    {
      "cell_type": "code",
      "source": [
        "SEED = 7777"
      ],
      "metadata": {
        "id": "c38dS3PIkk4q"
      },
      "execution_count": 3,
      "outputs": []
    },
    {
      "cell_type": "code",
      "source": [
        "DATA_PATH = '/content/gdrive/MyDrive/KaggleTabularPlaygroundSeries/data'\n",
        "SAVE_PATH = '/content/gdrive/MyDrive/KaggleTabularPlaygroundSeries/results'\n",
        "df_train = pd.read_csv(f'{DATA_PATH}/train.csv')\n",
        "df_test = pd.read_csv(f'{DATA_PATH}/test.csv')\n",
        "df_submit = pd.read_csv(f'{DATA_PATH}/sample_submission.csv')"
      ],
      "metadata": {
        "id": "ADr7xpj5y8eO"
      },
      "execution_count": 4,
      "outputs": []
    },
    {
      "cell_type": "code",
      "source": [
        "features = df_train.columns[1:-1]\n",
        "print(features)"
      ],
      "metadata": {
        "id": "iJ-1rmF676AC",
        "colab": {
          "base_uri": "https://localhost:8080/"
        },
        "outputId": "82cac25f-0a81-4a2a-daac-b567dad6f2d4"
      },
      "execution_count": 5,
      "outputs": [
        {
          "output_type": "stream",
          "name": "stdout",
          "text": [
            "Index(['A0T0G0C10', 'A0T0G1C9', 'A0T0G2C8', 'A0T0G3C7', 'A0T0G4C6', 'A0T0G5C5',\n",
            "       'A0T0G6C4', 'A0T0G7C3', 'A0T0G8C2', 'A0T0G9C1',\n",
            "       ...\n",
            "       'A8T0G0C2', 'A8T0G1C1', 'A8T0G2C0', 'A8T1G0C1', 'A8T1G1C0', 'A8T2G0C0',\n",
            "       'A9T0G0C1', 'A9T0G1C0', 'A9T1G0C0', 'A10T0G0C0'],\n",
            "      dtype='object', length=286)\n"
          ]
        }
      ]
    },
    {
      "cell_type": "code",
      "source": [
        "label_encoder = preprocessing.LabelEncoder()\n",
        "df_train['target'] = label_encoder.fit_transform(df_train['target'])"
      ],
      "metadata": {
        "id": "HSgTEveboz9l"
      },
      "execution_count": 6,
      "outputs": []
    },
    {
      "cell_type": "code",
      "source": [
        "X_train = df_train[features]\n",
        "y_train = df_train['target']\n",
        "rf_clf = RandomForestClassifier(n_estimators=500, n_jobs=-1, random_state=SEED)\n",
        "\n",
        "start_time = time.time()\n",
        "rf_clf.fit(X_train, y_train)\n",
        "end_time = time.time()\n",
        "print(f'Train Time Elapse: {(end_time - start_time) / 60:.3f} (min)')"
      ],
      "metadata": {
        "id": "kZvG7s45mo2D",
        "colab": {
          "base_uri": "https://localhost:8080/"
        },
        "outputId": "265ae6f2-a995-4d1b-9951-ce058b61b828"
      },
      "execution_count": 7,
      "outputs": [
        {
          "output_type": "stream",
          "name": "stdout",
          "text": [
            "Train Time Elapse: 11.865 (min)\n"
          ]
        }
      ]
    },
    {
      "cell_type": "code",
      "source": [
        "X_test = df_test[features]\n",
        "y_test = rf_clf.predict(X_test)\n",
        "y_name = label_encoder.inverse_transform(y_test)\n",
        "df_submit['target'] = y_name\n",
        "df_submit.to_csv(f'{DATA_PATH}/0203_rf_clf_baseline.csv', index=False)"
      ],
      "metadata": {
        "id": "KajMz3uawBR0"
      },
      "execution_count": 9,
      "outputs": []
    },
    {
      "cell_type": "code",
      "source": [
        ""
      ],
      "metadata": {
        "id": "9k_uiIDJHwdw"
      },
      "execution_count": null,
      "outputs": []
    }
  ]
}